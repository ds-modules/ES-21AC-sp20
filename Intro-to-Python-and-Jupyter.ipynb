{
 "cells": [
  {
   "cell_type": "markdown",
   "metadata": {},
   "source": [
    "# Berkeley Data Science Modules: Introduction to Data Science in Python\n",
    "\n",
    "\n",
    "### Table of Contents\n",
    "<a href='#section 0'>Welcome to Jupyter Notebooks!</a>\n",
    "\n",
    "1.  <a href='#section 1'>The Python Programming Language</a>\n",
    "\n",
    "    a. <a href='#subsection 1a'>Expressions</a> and <a href='#subsection error'>Errors</a>\n",
    "\n",
    "    b. <a href='#subsection 1b'>Names</a>\n",
    "\n",
    "    c. <a href='#subsection 1c'>Functions</a>\n",
    "\n",
    "    d. <a href='#subsection 1d'>Sequences</a>\n",
    "<br><br>\n",
    "2. <a href='#section 2'>Tables</a>\n",
    "\n",
    "    a. <a href='#subsection 2a'>Attributes</a>\n",
    "\n",
    "    b. <a href='#subsection 2b'>Transformations</a><br><br>\n",
    "\n",
    "3. <a href='#section 3'>Coming Soon...</a>"
   ]
  },
  {
   "cell_type": "markdown",
   "metadata": {},
   "source": [
    "## The Jupyter  Notebook <a id='section 0'></a>\n",
    "\n",
    "Welcome to the Jupyter Notebook! **Notebooks** are documents that can contain text, code, visualizations, and more. \n",
    "\n",
    "A notebook is composed of rectangular sections called **cells**. There are 2 kinds of cells: markdown and code. A **markdown cell**, such as this one, contains text. A **code cell** contains code in Python, a programming language that we will be using for the remainder of this module. You can select any cell by clicking it once. After a cell is selected, you can navigate the notebook using the up and down arrow keys.\n",
    "\n",
    "To run a code cell once it's been selected, \n",
    "- press Shift-Enter, or\n",
    "- click the Run button in the toolbar at the top of the screen. \n",
    "\n",
    "If a code cell is running, you will see an asterisk (\\*) appear in the square brackets to the left of the cell. Once the cell has finished running, a number will replace the asterisk and any output from the code will appear under the cell."
   ]
  },
  {
   "cell_type": "code",
   "execution_count": 56,
   "metadata": {},
   "outputs": [
    {
     "name": "stdout",
     "output_type": "stream",
     "text": [
      "Hello World!\n"
     ]
    }
   ],
   "source": [
    "# run this cell\n",
    "print(\"Hello World!\")"
   ]
  },
  {
   "cell_type": "markdown",
   "metadata": {},
   "source": [
    "You'll notice that many code cells contain lines of blue text that start with a `#`. These are *comments*. Comments often contain helpful information about what the code does or what you are supposed to do in the cell. The leading `#` tells the computer to ignore them."
   ]
  },
  {
   "cell_type": "markdown",
   "metadata": {},
   "source": [
    "#### Editing\n",
    "\n",
    "You can edit a Markdown cell by clicking it twice. Text in Markdown cells is written in [**Markdown**](https://daringfireball.net/projects/markdown/), a formatting syntax for plain text, so you may see some funky symbols when you edit a text cell. \n",
    "\n",
    "Once you've made your changes, you can exit text editing mode by running the cell. Edit the next cell to fix the misspelling."
   ]
  },
  {
   "cell_type": "markdown",
   "metadata": {},
   "source": [
    "Go Baers!"
   ]
  },
  {
   "cell_type": "markdown",
   "metadata": {},
   "source": [
    "Code cells can be edited any time after they are highlighted. Try editing the next code cell to print your name."
   ]
  },
  {
   "cell_type": "code",
   "execution_count": 57,
   "metadata": {},
   "outputs": [
    {
     "name": "stdout",
     "output_type": "stream",
     "text": [
      "Hello: my name is NAME\n"
     ]
    }
   ],
   "source": [
    "# edit the code to print your name\n",
    "print(\"Hello: my name is NAME\")"
   ]
  },
  {
   "cell_type": "markdown",
   "metadata": {},
   "source": [
    "#### Adding and Deleting Cells \n",
    "\n",
    "Some times you might need to add cells to do some scratch work before arriving to your final solution. You can add **cells** to by pressing the plus sign icon in the menu bar. This will add a **code cell** below your current cell.\n",
    "\n",
    "To convert this new cell to a **markdown cell**, press Cell on the menu bar, then select Cell Type, and finally pick the desired option. \n",
    "\n",
    "To delete a cell press the scissors icon on the menu bar. "
   ]
  },
  {
   "cell_type": "markdown",
   "metadata": {},
   "source": [
    "#### Saving and Loading\n",
    "\n",
    "Your notebook can record all of your text and code edits, as well as any graphs you generate or calculations you make. You can save the notebook in its current state by clicking Control-S, clicking the floppy disc icon in the toolbar at the top of the page, or by going to the File menu and selecting \"Save and Checkpoint\".\n",
    "\n",
    "The next time you open the notebook, it will look the same as when you last saved it.\n",
    "\n",
    "**Note:** after loading a notebook you will see all the outputs (graphs, computations, etc) from your last session, but you won't be able to use any variables you assigned or functions you defined. You can get the functions and variables back by re-running the cells where they were defined- the easiest way is to highlight the cell where you left off work, then go to the Cell menu at the top of the screen and click \"Run all above\". You can also use this menu to run all cells in the notebook by clicking \"Run all\"."
   ]
  },
  {
   "cell_type": "markdown",
   "metadata": {},
   "source": [
    "Before we begin, we'll need a few extra tools to conduct our analysis. Run the next cell to load some code packages that we'll use later. \n",
    "\n",
    "Note: this cell MUST be run in order for most of the rest of the notebook to work."
   ]
  },
  {
   "cell_type": "code",
   "execution_count": 58,
   "metadata": {},
   "outputs": [],
   "source": [
    "# dependencies: THIS CELL MUST BE RUN\n",
    "from datascience import *\n",
    "import numpy as np\n",
    "import math\n",
    "import matplotlib.pyplot as plt\n",
    "plt.style.use('fivethirtyeight')\n",
    "import ipywidgets as widgets\n",
    "%matplotlib inline"
   ]
  },
  {
   "cell_type": "markdown",
   "metadata": {},
   "source": [
    "# 1. Python <a id='section 1'></a>\n",
    "\n",
    "**Python** is  programming language- a way for us to communicate with the computer and give it instructions. \n",
    "\n",
    "Just like any language, Python has a *vocabulary* made up of words it can understand, and a *syntax* giving the rules for how to structure communication.\n"
   ]
  },
  {
   "cell_type": "markdown",
   "metadata": {},
   "source": [
    "#### Errors <a id=\"subsection error\"></a>\n",
    "\n",
    "Python is a language, and like natural human languages, it has rules. Whenver you write faulty code, you might break some of these rules which will prompt error messages. \n",
    "Errors are *normal*; experienced programmers make many errors every day. An error is nothing more than a message from the computer saying it doesn't understand you and asking you to rewrite your command.\n",
    "\n",
    "We have made an error in the next cell.  Run it and see what happens."
   ]
  },
  {
   "cell_type": "code",
   "execution_count": 59,
   "metadata": {},
   "outputs": [
    {
     "ename": "SyntaxError",
     "evalue": "unexpected EOF while parsing (<ipython-input-59-c7b7223ecd08>, line 1)",
     "output_type": "error",
     "traceback": [
      "\u001b[0;36m  File \u001b[0;32m\"<ipython-input-59-c7b7223ecd08>\"\u001b[0;36m, line \u001b[0;32m1\u001b[0m\n\u001b[0;31m    print(\"This line is missing something.\"\u001b[0m\n\u001b[0m                                           ^\u001b[0m\n\u001b[0;31mSyntaxError\u001b[0m\u001b[0;31m:\u001b[0m unexpected EOF while parsing\n"
     ]
    }
   ],
   "source": [
    "print(\"This line is missing something.\""
   ]
  },
  {
   "cell_type": "markdown",
   "metadata": {},
   "source": [
    "The last line of the error output attempts to tell you what went wrong. This is very useful information that can help us fix the mistake that is prompting the error. "
   ]
  },
  {
   "cell_type": "markdown",
   "metadata": {},
   "source": [
    "\n",
    "### 1a. Data <a id='subsection 1a'></a>\n",
    "**Data** is information- the \"stuff\" we manipulate to make and test hypotheses. \n",
    "\n",
    "Almost all data you will work with broadly falls into two types: numbers and text. *Numerical data* shows up green in code cells and can be positive, negative, or include a decimal."
   ]
  },
  {
   "cell_type": "code",
   "execution_count": 60,
   "metadata": {},
   "outputs": [
    {
     "data": {
      "text/plain": [
       "3.14159"
      ]
     },
     "execution_count": 60,
     "metadata": {},
     "output_type": "execute_result"
    }
   ],
   "source": [
    "# Numerical data\n",
    "\n",
    "4\n",
    "\n",
    "87623000983\n",
    "\n",
    "-667\n",
    "\n",
    "3.14159"
   ]
  },
  {
   "cell_type": "markdown",
   "metadata": {},
   "source": [
    "Text data (also called *strings*) shows up red in code cells. Strings are enclosed in double or single quotes. Note that numbers can appear in strings."
   ]
  },
  {
   "cell_type": "code",
   "execution_count": 61,
   "metadata": {},
   "outputs": [
    {
     "data": {
      "text/plain": [
       "'3.14159'"
      ]
     },
     "execution_count": 61,
     "metadata": {},
     "output_type": "execute_result"
    }
   ],
   "source": [
    "# Strings\n",
    "\"a\"\n",
    "\n",
    "\"Hi there!\"\n",
    "\n",
    "\"We hold these truths to be self-evident that all men are created equal.\"\n",
    "\n",
    "# this is a string, NOT numerical data\n",
    "\"3.14159\""
   ]
  },
  {
   "cell_type": "markdown",
   "metadata": {},
   "source": [
    "### 1a. Expressions <a id='subsection 1a'></a>\n",
    "\n",
    "A bit of communication in Python is called an **expression**. It tells the computer what to do with the data we give it.\n",
    "\n",
    "Here's an example of an expression."
   ]
  },
  {
   "cell_type": "code",
   "execution_count": 62,
   "metadata": {},
   "outputs": [
    {
     "data": {
      "text/plain": [
       "34"
      ]
     },
     "execution_count": 62,
     "metadata": {},
     "output_type": "execute_result"
    }
   ],
   "source": [
    "# an expression\n",
    "14 + 20"
   ]
  },
  {
   "cell_type": "markdown",
   "metadata": {},
   "source": [
    "\n",
    "When you run the cell, the computer **evaluates** the expression and prints the result. Note that only the last line in a code cell will be printed, unless you explicitly tell the computer you want to print the result."
   ]
  },
  {
   "cell_type": "code",
   "execution_count": 63,
   "metadata": {},
   "outputs": [
    {
     "name": "stdout",
     "output_type": "stream",
     "text": [
      "15.280000000000001\n"
     ]
    },
    {
     "data": {
      "text/plain": [
       "884"
      ]
     },
     "execution_count": 63,
     "metadata": {},
     "output_type": "execute_result"
    }
   ],
   "source": [
    "# more expressions. what gets printed and what doesn't?\n",
    "100 / 10\n",
    "\n",
    "print(4.3 + 10.98)\n",
    "\n",
    "33 - 9 * (40000 + 1)\n",
    "\n",
    "884"
   ]
  },
  {
   "cell_type": "markdown",
   "metadata": {},
   "source": [
    "Many basic arithmetic operations are built in to Python, like `*` (multiplication), `+` (addition), `-` (subtraction), and `/` (division). There are many others, which you can find information about [here](http://www.inferentialthinking.com/chapters/03/1/expressions.html). \n",
    "\n",
    "The computer evaluates arithmetic according to the PEMDAS order of operations (just like you probably learned in middle school): anything in parentheses is done first, followed by exponents, then multiplication and division, and finally addition and subtraction."
   ]
  },
  {
   "cell_type": "code",
   "execution_count": 64,
   "metadata": {},
   "outputs": [
    {
     "data": {
      "text/plain": [
       "-2.0"
      ]
     },
     "execution_count": 64,
     "metadata": {},
     "output_type": "execute_result"
    }
   ],
   "source": [
    "# before you run this cell, can you say what it should print?\n",
    "4 - 2 * (1 + 6 / 3)"
   ]
  },
  {
   "cell_type": "markdown",
   "metadata": {},
   "source": [
    "### 1b. Names <a id='subsection 1b'></a>\n",
    "Sometimes, the values you work with can get cumbersome- maybe the expression that gives the value is very complicated, or maybe the value itself is long. In these cases it's useful to give the value a **name**.\n",
    "\n",
    "We can name values using what's called an *assignment* statement."
   ]
  },
  {
   "cell_type": "code",
   "execution_count": 65,
   "metadata": {},
   "outputs": [],
   "source": [
    "# assigns 442 to x\n",
    "x = 442"
   ]
  },
  {
   "cell_type": "markdown",
   "metadata": {},
   "source": [
    "The assignment statement has three parts. On the left is the *name* (`x`). On the right is the *value* (442). The *equals sign* in the middle tells the computer to assign the value to the name.\n",
    "\n",
    "You'll notice that when you run the cell with the assignment, it doesn't print anything. But, if we try to access `x` again in the future, it will have the value we assigned it."
   ]
  },
  {
   "cell_type": "code",
   "execution_count": 66,
   "metadata": {},
   "outputs": [
    {
     "data": {
      "text/plain": [
       "442"
      ]
     },
     "execution_count": 66,
     "metadata": {},
     "output_type": "execute_result"
    }
   ],
   "source": [
    "# print the value of x\n",
    "x"
   ]
  },
  {
   "cell_type": "markdown",
   "metadata": {},
   "source": [
    "You can also assign names to expressions. The computer will compute the expression and assign the name to the result of the computation."
   ]
  },
  {
   "cell_type": "code",
   "execution_count": 67,
   "metadata": {},
   "outputs": [
    {
     "data": {
      "text/plain": [
       "101"
      ]
     },
     "execution_count": 67,
     "metadata": {},
     "output_type": "execute_result"
    }
   ],
   "source": [
    "y = 50 * 2 + 1\n",
    "y"
   ]
  },
  {
   "cell_type": "markdown",
   "metadata": {},
   "source": [
    "We can then use these name as if they were numbers."
   ]
  },
  {
   "cell_type": "code",
   "execution_count": 68,
   "metadata": {},
   "outputs": [
    {
     "data": {
      "text/plain": [
       "400"
      ]
     },
     "execution_count": 68,
     "metadata": {},
     "output_type": "execute_result"
    }
   ],
   "source": [
    "x - 42"
   ]
  },
  {
   "cell_type": "code",
   "execution_count": 69,
   "metadata": {},
   "outputs": [
    {
     "data": {
      "text/plain": [
       "543"
      ]
     },
     "execution_count": 69,
     "metadata": {},
     "output_type": "execute_result"
    }
   ],
   "source": [
    "x + y"
   ]
  },
  {
   "cell_type": "markdown",
   "metadata": {},
   "source": [
    "### 1c. Functions <a id='subsection 1c'></a>\n",
    "We've seen that values can have names (often called **variables**), but operations may also have names. A named operation is called a **function**. Python has some functions built into it."
   ]
  },
  {
   "cell_type": "code",
   "execution_count": 70,
   "metadata": {},
   "outputs": [
    {
     "data": {
      "text/plain": [
       "<function abs(x, /)>"
      ]
     },
     "execution_count": 70,
     "metadata": {},
     "output_type": "execute_result"
    }
   ],
   "source": [
    "# a built-in function \n",
    "abs"
   ]
  },
  {
   "cell_type": "markdown",
   "metadata": {},
   "source": [
    "Functions get used in *call expressions*, where a function is named and given values to operate on inside a set of parentheses. The `abs` function returns the absolute value of a number. "
   ]
  },
  {
   "cell_type": "code",
   "execution_count": 71,
   "metadata": {},
   "outputs": [
    {
     "data": {
      "text/plain": [
       "1989"
      ]
     },
     "execution_count": 71,
     "metadata": {},
     "output_type": "execute_result"
    }
   ],
   "source": [
    "# a call expression using round\n",
    "round(1988.74699)"
   ]
  },
  {
   "cell_type": "markdown",
   "metadata": {},
   "source": [
    "A function may also be called on more than one value (called *arguments*). For instance, the `min` function takes however many arguments you'd like and returns the smallest. Multiple arguments are separated by commas."
   ]
  },
  {
   "cell_type": "code",
   "execution_count": 72,
   "metadata": {},
   "outputs": [
    {
     "data": {
      "text/plain": [
       "-34"
      ]
     },
     "execution_count": 72,
     "metadata": {},
     "output_type": "execute_result"
    }
   ],
   "source": [
    "min(9, -34, 0, 99)"
   ]
  },
  {
   "cell_type": "markdown",
   "metadata": {},
   "source": [
    "## 2. Tables <a id='section 2'></a>\n",
    "\n",
    "The last section covered four basic concepts of python: data, expressions, names, and functions. In this next section, we'll see just how much we can do to examine and manipulate our data with only these minimal Python skills."
   ]
  },
  {
   "cell_type": "markdown",
   "metadata": {},
   "source": [
    "**Tables** are fundamental ways of organizing and displaying data. Run the next cell to load the data."
   ]
  },
  {
   "cell_type": "code",
   "execution_count": 73,
   "metadata": {},
   "outputs": [
    {
     "data": {
      "text/html": [
       "<table border=\"1\" class=\"dataframe\">\n",
       "    <thead>\n",
       "        <tr>\n",
       "            <th>carat</th> <th>cut</th> <th>color</th> <th>clarity</th> <th>depth</th> <th>table</th> <th>price</th> <th>x</th> <th>y</th> <th>z</th>\n",
       "        </tr>\n",
       "    </thead>\n",
       "    <tbody>\n",
       "        <tr>\n",
       "            <td>0.23 </td> <td>Ideal    </td> <td>E    </td> <td>SI2    </td> <td>61.5 </td> <td>55   </td> <td>326  </td> <td>3.95</td> <td>3.98</td> <td>2.43</td>\n",
       "        </tr>\n",
       "        <tr>\n",
       "            <td>0.21 </td> <td>Premium  </td> <td>E    </td> <td>SI1    </td> <td>59.8 </td> <td>61   </td> <td>326  </td> <td>3.89</td> <td>3.84</td> <td>2.31</td>\n",
       "        </tr>\n",
       "        <tr>\n",
       "            <td>0.23 </td> <td>Good     </td> <td>E    </td> <td>VS1    </td> <td>56.9 </td> <td>65   </td> <td>327  </td> <td>4.05</td> <td>4.07</td> <td>2.31</td>\n",
       "        </tr>\n",
       "        <tr>\n",
       "            <td>0.29 </td> <td>Premium  </td> <td>I    </td> <td>VS2    </td> <td>62.4 </td> <td>58   </td> <td>334  </td> <td>4.2 </td> <td>4.23</td> <td>2.63</td>\n",
       "        </tr>\n",
       "        <tr>\n",
       "            <td>0.31 </td> <td>Good     </td> <td>J    </td> <td>SI2    </td> <td>63.3 </td> <td>58   </td> <td>335  </td> <td>4.34</td> <td>4.35</td> <td>2.75</td>\n",
       "        </tr>\n",
       "        <tr>\n",
       "            <td>0.24 </td> <td>Very Good</td> <td>J    </td> <td>VVS2   </td> <td>62.8 </td> <td>57   </td> <td>336  </td> <td>3.94</td> <td>3.96</td> <td>2.48</td>\n",
       "        </tr>\n",
       "        <tr>\n",
       "            <td>0.24 </td> <td>Very Good</td> <td>I    </td> <td>VVS1   </td> <td>62.3 </td> <td>57   </td> <td>336  </td> <td>3.95</td> <td>3.98</td> <td>2.47</td>\n",
       "        </tr>\n",
       "        <tr>\n",
       "            <td>0.26 </td> <td>Very Good</td> <td>H    </td> <td>SI1    </td> <td>61.9 </td> <td>55   </td> <td>337  </td> <td>4.07</td> <td>4.11</td> <td>2.53</td>\n",
       "        </tr>\n",
       "        <tr>\n",
       "            <td>0.22 </td> <td>Fair     </td> <td>E    </td> <td>VS2    </td> <td>65.1 </td> <td>61   </td> <td>337  </td> <td>3.87</td> <td>3.78</td> <td>2.49</td>\n",
       "        </tr>\n",
       "        <tr>\n",
       "            <td>0.23 </td> <td>Very Good</td> <td>H    </td> <td>VS1    </td> <td>59.4 </td> <td>61   </td> <td>338  </td> <td>4   </td> <td>4.05</td> <td>2.39</td>\n",
       "        </tr>\n",
       "    </tbody>\n",
       "</table>\n",
       "<p>... (53930 rows omitted)</p>"
      ],
      "text/plain": [
       "carat | cut       | color | clarity | depth | table | price | x    | y    | z\n",
       "0.23  | Ideal     | E     | SI2     | 61.5  | 55    | 326   | 3.95 | 3.98 | 2.43\n",
       "0.21  | Premium   | E     | SI1     | 59.8  | 61    | 326   | 3.89 | 3.84 | 2.31\n",
       "0.23  | Good      | E     | VS1     | 56.9  | 65    | 327   | 4.05 | 4.07 | 2.31\n",
       "0.29  | Premium   | I     | VS2     | 62.4  | 58    | 334   | 4.2  | 4.23 | 2.63\n",
       "0.31  | Good      | J     | SI2     | 63.3  | 58    | 335   | 4.34 | 4.35 | 2.75\n",
       "0.24  | Very Good | J     | VVS2    | 62.8  | 57    | 336   | 3.94 | 3.96 | 2.48\n",
       "0.24  | Very Good | I     | VVS1    | 62.3  | 57    | 336   | 3.95 | 3.98 | 2.47\n",
       "0.26  | Very Good | H     | SI1     | 61.9  | 55    | 337   | 4.07 | 4.11 | 2.53\n",
       "0.22  | Fair      | E     | VS2     | 65.1  | 61    | 337   | 3.87 | 3.78 | 2.49\n",
       "0.23  | Very Good | H     | VS1     | 59.4  | 61    | 338   | 4    | 4.05 | 2.39\n",
       "... (53930 rows omitted)"
      ]
     },
     "execution_count": 73,
     "metadata": {},
     "output_type": "execute_result"
    }
   ],
   "source": [
    "diamonds= Table.read_table(\"diamonds.csv\")\n",
    "diamonds\n"
   ]
  },
  {
   "cell_type": "markdown",
   "metadata": {},
   "source": [
    "This table is organized into **columns**: one for each *category* of information collected:\n",
    "\n",
    "You can also think about the table in terms of its **rows**. Each row represents all the information collected about a particular instance, which can be a person, location, action, or other unit. \n",
    "\n",
    "By default only the first ten rows are shown. You can count the total number of rows in the table "
   ]
  },
  {
   "cell_type": "markdown",
   "metadata": {},
   "source": [
    "### 2a. Table Attributes <a id='subsection 2a'></a>\n",
    "\n",
    "Every table has **attributes** that give information about the table, like the number of rows and the number of columns. Table attributes are accessed using the dot method. But, since an attribute doesn't perform an operation on the table, there are no parentheses (like there would be in a call expression).\n",
    "\n",
    "Attributes you'll use frequently include `num_rows` and `num_columns`, which give the number of rows and columns in the table, respectively."
   ]
  },
  {
   "cell_type": "code",
   "execution_count": 74,
   "metadata": {},
   "outputs": [
    {
     "data": {
      "text/plain": [
       "10"
      ]
     },
     "execution_count": 74,
     "metadata": {},
     "output_type": "execute_result"
    }
   ],
   "source": [
    "# get the number of columns\n",
    "diamonds.num_columns"
   ]
  },
  {
   "cell_type": "code",
   "execution_count": 75,
   "metadata": {},
   "outputs": [
    {
     "data": {
      "text/plain": [
       "53940"
      ]
     },
     "execution_count": 75,
     "metadata": {},
     "output_type": "execute_result"
    }
   ],
   "source": [
    "# get the number of rows in the table\n",
    "diamonds.num_rows"
   ]
  },
  {
   "cell_type": "markdown",
   "metadata": {},
   "source": [
    "### 2b. Table Transformation <a id='subsection 2b'></a>\n",
    "\n",
    "Not all of our columns are relevant to every question we want to ask. We can save computational resources and avoid confusion by *transforming* our table before we start work.\n",
    "\n",
    "#### Subsetting columns with `select` and `drop`\n",
    "The `select` function is used to get a table containing only particular columns. `select` is called on a table using dot notation and takes one or more arguments: the name or names of the column or columns you want."
   ]
  },
  {
   "cell_type": "code",
   "execution_count": 76,
   "metadata": {},
   "outputs": [
    {
     "data": {
      "text/html": [
       "<table border=\"1\" class=\"dataframe\">\n",
       "    <thead>\n",
       "        <tr>\n",
       "            <th>carat</th> <th>cut</th> <th>color</th> <th>clarity</th> <th>price</th>\n",
       "        </tr>\n",
       "    </thead>\n",
       "    <tbody>\n",
       "        <tr>\n",
       "            <td>0.23 </td> <td>Ideal    </td> <td>E    </td> <td>SI2    </td> <td>326  </td>\n",
       "        </tr>\n",
       "        <tr>\n",
       "            <td>0.21 </td> <td>Premium  </td> <td>E    </td> <td>SI1    </td> <td>326  </td>\n",
       "        </tr>\n",
       "        <tr>\n",
       "            <td>0.23 </td> <td>Good     </td> <td>E    </td> <td>VS1    </td> <td>327  </td>\n",
       "        </tr>\n",
       "        <tr>\n",
       "            <td>0.29 </td> <td>Premium  </td> <td>I    </td> <td>VS2    </td> <td>334  </td>\n",
       "        </tr>\n",
       "        <tr>\n",
       "            <td>0.31 </td> <td>Good     </td> <td>J    </td> <td>SI2    </td> <td>335  </td>\n",
       "        </tr>\n",
       "        <tr>\n",
       "            <td>0.24 </td> <td>Very Good</td> <td>J    </td> <td>VVS2   </td> <td>336  </td>\n",
       "        </tr>\n",
       "        <tr>\n",
       "            <td>0.24 </td> <td>Very Good</td> <td>I    </td> <td>VVS1   </td> <td>336  </td>\n",
       "        </tr>\n",
       "        <tr>\n",
       "            <td>0.26 </td> <td>Very Good</td> <td>H    </td> <td>SI1    </td> <td>337  </td>\n",
       "        </tr>\n",
       "        <tr>\n",
       "            <td>0.22 </td> <td>Fair     </td> <td>E    </td> <td>VS2    </td> <td>337  </td>\n",
       "        </tr>\n",
       "        <tr>\n",
       "            <td>0.23 </td> <td>Very Good</td> <td>H    </td> <td>VS1    </td> <td>338  </td>\n",
       "        </tr>\n",
       "    </tbody>\n",
       "</table>\n",
       "<p>... (53930 rows omitted)</p>"
      ],
      "text/plain": [
       "carat | cut       | color | clarity | price\n",
       "0.23  | Ideal     | E     | SI2     | 326\n",
       "0.21  | Premium   | E     | SI1     | 326\n",
       "0.23  | Good      | E     | VS1     | 327\n",
       "0.29  | Premium   | I     | VS2     | 334\n",
       "0.31  | Good      | J     | SI2     | 335\n",
       "0.24  | Very Good | J     | VVS2    | 336\n",
       "0.24  | Very Good | I     | VVS1    | 336\n",
       "0.26  | Very Good | H     | SI1     | 337\n",
       "0.22  | Fair      | E     | VS2     | 337\n",
       "0.23  | Very Good | H     | VS1     | 338\n",
       "... (53930 rows omitted)"
      ]
     },
     "execution_count": 76,
     "metadata": {},
     "output_type": "execute_result"
    }
   ],
   "source": [
    "# make a new table with only selected columns\n",
    "diamonds.select(\"carat\", \"cut\",\"color\",\"clarity\",\"price\")"
   ]
  },
  {
   "cell_type": "markdown",
   "metadata": {},
   "source": [
    "If instead you need all columns except a few, the `drop` function can get rid of specified columns. `drop` works very similarly to `select`: call it on the table using dot notation, then give it the name or names of what you want to drop."
   ]
  },
  {
   "cell_type": "code",
   "execution_count": 77,
   "metadata": {},
   "outputs": [
    {
     "data": {
      "text/html": [
       "<table border=\"1\" class=\"dataframe\">\n",
       "    <thead>\n",
       "        <tr>\n",
       "            <th>carat</th> <th>cut</th> <th>color</th> <th>clarity</th> <th>depth</th> <th>price</th>\n",
       "        </tr>\n",
       "    </thead>\n",
       "    <tbody>\n",
       "        <tr>\n",
       "            <td>0.23 </td> <td>Ideal    </td> <td>E    </td> <td>SI2    </td> <td>61.5 </td> <td>326  </td>\n",
       "        </tr>\n",
       "        <tr>\n",
       "            <td>0.21 </td> <td>Premium  </td> <td>E    </td> <td>SI1    </td> <td>59.8 </td> <td>326  </td>\n",
       "        </tr>\n",
       "        <tr>\n",
       "            <td>0.23 </td> <td>Good     </td> <td>E    </td> <td>VS1    </td> <td>56.9 </td> <td>327  </td>\n",
       "        </tr>\n",
       "        <tr>\n",
       "            <td>0.29 </td> <td>Premium  </td> <td>I    </td> <td>VS2    </td> <td>62.4 </td> <td>334  </td>\n",
       "        </tr>\n",
       "        <tr>\n",
       "            <td>0.31 </td> <td>Good     </td> <td>J    </td> <td>SI2    </td> <td>63.3 </td> <td>335  </td>\n",
       "        </tr>\n",
       "        <tr>\n",
       "            <td>0.24 </td> <td>Very Good</td> <td>J    </td> <td>VVS2   </td> <td>62.8 </td> <td>336  </td>\n",
       "        </tr>\n",
       "        <tr>\n",
       "            <td>0.24 </td> <td>Very Good</td> <td>I    </td> <td>VVS1   </td> <td>62.3 </td> <td>336  </td>\n",
       "        </tr>\n",
       "        <tr>\n",
       "            <td>0.26 </td> <td>Very Good</td> <td>H    </td> <td>SI1    </td> <td>61.9 </td> <td>337  </td>\n",
       "        </tr>\n",
       "        <tr>\n",
       "            <td>0.22 </td> <td>Fair     </td> <td>E    </td> <td>VS2    </td> <td>65.1 </td> <td>337  </td>\n",
       "        </tr>\n",
       "        <tr>\n",
       "            <td>0.23 </td> <td>Very Good</td> <td>H    </td> <td>VS1    </td> <td>59.4 </td> <td>338  </td>\n",
       "        </tr>\n",
       "    </tbody>\n",
       "</table>\n",
       "<p>... (53930 rows omitted)</p>"
      ],
      "text/plain": [
       "carat | cut       | color | clarity | depth | price\n",
       "0.23  | Ideal     | E     | SI2     | 61.5  | 326\n",
       "0.21  | Premium   | E     | SI1     | 59.8  | 326\n",
       "0.23  | Good      | E     | VS1     | 56.9  | 327\n",
       "0.29  | Premium   | I     | VS2     | 62.4  | 334\n",
       "0.31  | Good      | J     | SI2     | 63.3  | 335\n",
       "0.24  | Very Good | J     | VVS2    | 62.8  | 336\n",
       "0.24  | Very Good | I     | VVS1    | 62.3  | 336\n",
       "0.26  | Very Good | H     | SI1     | 61.9  | 337\n",
       "0.22  | Fair      | E     | VS2     | 65.1  | 337\n",
       "0.23  | Very Good | H     | VS1     | 59.4  | 338\n",
       "... (53930 rows omitted)"
      ]
     },
     "execution_count": 77,
     "metadata": {},
     "output_type": "execute_result"
    }
   ],
   "source": [
    "# drop a column\n",
    "diamonds.drop(\"table\",\"x\",\"y\",\"z\")"
   ]
  },
  {
   "cell_type": "markdown",
   "metadata": {},
   "source": [
    "#### Filtering rows with `where`\n",
    "Some analysis questions only deal with a subset of rows.\n",
    "\n",
    "The **`where`** function allows us to choose certain rows based on two arguments:\n",
    "- A column label\n",
    "- A condition that each row should match, called the _predicate_ \n",
    "\n",
    "In other words, we call the `where` function like so: `table_name.where(column_name, predicate)`.\n"
   ]
  },
  {
   "cell_type": "code",
   "execution_count": 78,
   "metadata": {},
   "outputs": [
    {
     "data": {
      "text/html": [
       "<table border=\"1\" class=\"dataframe\">\n",
       "    <thead>\n",
       "        <tr>\n",
       "            <th>carat</th> <th>cut</th> <th>color</th> <th>clarity</th> <th>depth</th> <th>table</th> <th>price</th> <th>x</th> <th>y</th> <th>z</th>\n",
       "        </tr>\n",
       "    </thead>\n",
       "    <tbody>\n",
       "        <tr>\n",
       "            <td>0.23 </td> <td>Ideal    </td> <td>E    </td> <td>SI2    </td> <td>61.5 </td> <td>55   </td> <td>326  </td> <td>3.95</td> <td>3.98</td> <td>2.43</td>\n",
       "        </tr>\n",
       "        <tr>\n",
       "            <td>0.21 </td> <td>Premium  </td> <td>E    </td> <td>SI1    </td> <td>59.8 </td> <td>61   </td> <td>326  </td> <td>3.89</td> <td>3.84</td> <td>2.31</td>\n",
       "        </tr>\n",
       "        <tr>\n",
       "            <td>0.23 </td> <td>Good     </td> <td>E    </td> <td>VS1    </td> <td>56.9 </td> <td>65   </td> <td>327  </td> <td>4.05</td> <td>4.07</td> <td>2.31</td>\n",
       "        </tr>\n",
       "        <tr>\n",
       "            <td>0.29 </td> <td>Premium  </td> <td>I    </td> <td>VS2    </td> <td>62.4 </td> <td>58   </td> <td>334  </td> <td>4.2 </td> <td>4.23</td> <td>2.63</td>\n",
       "        </tr>\n",
       "        <tr>\n",
       "            <td>0.31 </td> <td>Good     </td> <td>J    </td> <td>SI2    </td> <td>63.3 </td> <td>58   </td> <td>335  </td> <td>4.34</td> <td>4.35</td> <td>2.75</td>\n",
       "        </tr>\n",
       "        <tr>\n",
       "            <td>0.24 </td> <td>Very Good</td> <td>J    </td> <td>VVS2   </td> <td>62.8 </td> <td>57   </td> <td>336  </td> <td>3.94</td> <td>3.96</td> <td>2.48</td>\n",
       "        </tr>\n",
       "        <tr>\n",
       "            <td>0.24 </td> <td>Very Good</td> <td>I    </td> <td>VVS1   </td> <td>62.3 </td> <td>57   </td> <td>336  </td> <td>3.95</td> <td>3.98</td> <td>2.47</td>\n",
       "        </tr>\n",
       "        <tr>\n",
       "            <td>0.26 </td> <td>Very Good</td> <td>H    </td> <td>SI1    </td> <td>61.9 </td> <td>55   </td> <td>337  </td> <td>4.07</td> <td>4.11</td> <td>2.53</td>\n",
       "        </tr>\n",
       "        <tr>\n",
       "            <td>0.22 </td> <td>Fair     </td> <td>E    </td> <td>VS2    </td> <td>65.1 </td> <td>61   </td> <td>337  </td> <td>3.87</td> <td>3.78</td> <td>2.49</td>\n",
       "        </tr>\n",
       "        <tr>\n",
       "            <td>0.23 </td> <td>Very Good</td> <td>H    </td> <td>VS1    </td> <td>59.4 </td> <td>61   </td> <td>338  </td> <td>4   </td> <td>4.05</td> <td>2.39</td>\n",
       "        </tr>\n",
       "    </tbody>\n",
       "</table>\n",
       "<p>... (237 rows omitted)</p>"
      ],
      "text/plain": [
       "carat | cut       | color | clarity | depth | table | price | x    | y    | z\n",
       "0.23  | Ideal     | E     | SI2     | 61.5  | 55    | 326   | 3.95 | 3.98 | 2.43\n",
       "0.21  | Premium   | E     | SI1     | 59.8  | 61    | 326   | 3.89 | 3.84 | 2.31\n",
       "0.23  | Good      | E     | VS1     | 56.9  | 65    | 327   | 4.05 | 4.07 | 2.31\n",
       "0.29  | Premium   | I     | VS2     | 62.4  | 58    | 334   | 4.2  | 4.23 | 2.63\n",
       "0.31  | Good      | J     | SI2     | 63.3  | 58    | 335   | 4.34 | 4.35 | 2.75\n",
       "0.24  | Very Good | J     | VVS2    | 62.8  | 57    | 336   | 3.94 | 3.96 | 2.48\n",
       "0.24  | Very Good | I     | VVS1    | 62.3  | 57    | 336   | 3.95 | 3.98 | 2.47\n",
       "0.26  | Very Good | H     | SI1     | 61.9  | 55    | 337   | 4.07 | 4.11 | 2.53\n",
       "0.22  | Fair      | E     | VS2     | 65.1  | 61    | 337   | 3.87 | 3.78 | 2.49\n",
       "0.23  | Very Good | H     | VS1     | 59.4  | 61    | 338   | 4    | 4.05 | 2.39\n",
       "... (237 rows omitted)"
      ]
     },
     "execution_count": 78,
     "metadata": {},
     "output_type": "execute_result"
    }
   ],
   "source": [
    "# get a subset of rows\n",
    "diamonds.where(\"price\", are.below(400))"
   ]
  },
  {
   "cell_type": "markdown",
   "metadata": {},
   "source": [
    "There are many types of predicates, but some of the more common ones are:\n",
    "\n",
    "|Predicate|Example|Result|\n",
    "|-|-|-|\n",
    "|`are.equal_to`|`are.equal_to(50)`|Find rows with values equal to 50|\n",
    "|`are.not_equal_to`|`are.not_equal_to(50)`|Find rows with values not equal to 50|\n",
    "|`are.above`|`are.above(50)`|Find rows with values above (and not equal to) 50|\n",
    "|`are.above_or_equal_to`|`are.above_or_equal_to(50)`|Find rows with values above 50 or equal to 50|\n",
    "|`are.below`|`are.below(50)`|Find rows with values below 50|\n",
    "|`are.between`|`are.between(2, 10)`|Find rows with values above or equal to 2 and below 10|\n"
   ]
  },
  {
   "cell_type": "code",
   "execution_count": 79,
   "metadata": {},
   "outputs": [
    {
     "data": {
      "text/html": [
       "<table border=\"1\" class=\"dataframe\">\n",
       "    <thead>\n",
       "        <tr>\n",
       "            <th>carat</th> <th>cut</th> <th>color</th> <th>clarity</th> <th>depth</th> <th>table</th> <th>price</th> <th>x</th> <th>y</th> <th>z</th>\n",
       "        </tr>\n",
       "    </thead>\n",
       "    <tbody>\n",
       "        <tr>\n",
       "            <td>0.21 </td> <td>Premium</td> <td>E    </td> <td>SI1    </td> <td>59.8 </td> <td>61   </td> <td>326  </td> <td>3.89</td> <td>3.84</td> <td>2.31</td>\n",
       "        </tr>\n",
       "        <tr>\n",
       "            <td>0.29 </td> <td>Premium</td> <td>I    </td> <td>VS2    </td> <td>62.4 </td> <td>58   </td> <td>334  </td> <td>4.2 </td> <td>4.23</td> <td>2.63</td>\n",
       "        </tr>\n",
       "        <tr>\n",
       "            <td>0.22 </td> <td>Premium</td> <td>F    </td> <td>SI1    </td> <td>60.4 </td> <td>61   </td> <td>342  </td> <td>3.88</td> <td>3.84</td> <td>2.33</td>\n",
       "        </tr>\n",
       "        <tr>\n",
       "            <td>0.2  </td> <td>Premium</td> <td>E    </td> <td>SI2    </td> <td>60.2 </td> <td>62   </td> <td>345  </td> <td>3.79</td> <td>3.75</td> <td>2.27</td>\n",
       "        </tr>\n",
       "        <tr>\n",
       "            <td>0.32 </td> <td>Premium</td> <td>E    </td> <td>I1     </td> <td>60.9 </td> <td>58   </td> <td>345  </td> <td>4.38</td> <td>4.42</td> <td>2.68</td>\n",
       "        </tr>\n",
       "        <tr>\n",
       "            <td>0.24 </td> <td>Premium</td> <td>I    </td> <td>VS1    </td> <td>62.5 </td> <td>57   </td> <td>355  </td> <td>3.97</td> <td>3.94</td> <td>2.47</td>\n",
       "        </tr>\n",
       "        <tr>\n",
       "            <td>0.29 </td> <td>Premium</td> <td>F    </td> <td>SI1    </td> <td>62.4 </td> <td>58   </td> <td>403  </td> <td>4.24</td> <td>4.26</td> <td>2.65</td>\n",
       "        </tr>\n",
       "        <tr>\n",
       "            <td>0.22 </td> <td>Premium</td> <td>E    </td> <td>VS2    </td> <td>61.6 </td> <td>58   </td> <td>404  </td> <td>3.93</td> <td>3.89</td> <td>2.41</td>\n",
       "        </tr>\n",
       "        <tr>\n",
       "            <td>0.22 </td> <td>Premium</td> <td>D    </td> <td>VS2    </td> <td>59.3 </td> <td>62   </td> <td>404  </td> <td>3.91</td> <td>3.88</td> <td>2.31</td>\n",
       "        </tr>\n",
       "        <tr>\n",
       "            <td>0.3  </td> <td>Premium</td> <td>J    </td> <td>SI2    </td> <td>59.3 </td> <td>61   </td> <td>405  </td> <td>4.43</td> <td>4.38</td> <td>2.61</td>\n",
       "        </tr>\n",
       "    </tbody>\n",
       "</table>\n",
       "<p>... (13781 rows omitted)</p>"
      ],
      "text/plain": [
       "carat | cut     | color | clarity | depth | table | price | x    | y    | z\n",
       "0.21  | Premium | E     | SI1     | 59.8  | 61    | 326   | 3.89 | 3.84 | 2.31\n",
       "0.29  | Premium | I     | VS2     | 62.4  | 58    | 334   | 4.2  | 4.23 | 2.63\n",
       "0.22  | Premium | F     | SI1     | 60.4  | 61    | 342   | 3.88 | 3.84 | 2.33\n",
       "0.2   | Premium | E     | SI2     | 60.2  | 62    | 345   | 3.79 | 3.75 | 2.27\n",
       "0.32  | Premium | E     | I1      | 60.9  | 58    | 345   | 4.38 | 4.42 | 2.68\n",
       "0.24  | Premium | I     | VS1     | 62.5  | 57    | 355   | 3.97 | 3.94 | 2.47\n",
       "0.29  | Premium | F     | SI1     | 62.4  | 58    | 403   | 4.24 | 4.26 | 2.65\n",
       "0.22  | Premium | E     | VS2     | 61.6  | 58    | 404   | 3.93 | 3.89 | 2.41\n",
       "0.22  | Premium | D     | VS2     | 59.3  | 62    | 404   | 3.91 | 3.88 | 2.31\n",
       "0.3   | Premium | J     | SI2     | 59.3  | 61    | 405   | 4.43 | 4.38 | 2.61\n",
       "... (13781 rows omitted)"
      ]
     },
     "execution_count": 79,
     "metadata": {},
     "output_type": "execute_result"
    }
   ],
   "source": [
    "# example 2: get a subset of rows\n",
    "diamonds.where(\"cut\", are.equal_to(\"Premium\"))"
   ]
  },
  {
   "cell_type": "markdown",
   "metadata": {},
   "source": [
    "## 3. Coming up... <a id='section 3'></a>\n",
    "\n",
    "Knowing these few basic concepts about Python and Tables will help you interact with data in upcoming parts of the module. Here's a preview of the kinds of visualizations and operations coming up:"
   ]
  },
  {
   "cell_type": "code",
   "execution_count": 90,
   "metadata": {},
   "outputs": [
    {
     "data": {
      "image/png": "[encoded data removed]",
      "text/plain": [
       "<Figure size 360x360 with 1 Axes>"
      ]
     },
     "metadata": {
      "needs_background": "light"
     },
     "output_type": "display_data"
    }
   ],
   "source": [
    "# look at the correlation between carat and price \n",
    "diamonds.select(\"carat\", \"price\").scatter(\"carat\", fit_line=True)"
   ]
  },
  {
   "cell_type": "code",
   "execution_count": 94,
   "metadata": {},
   "outputs": [
    {
     "data": {
      "image/png": "[encoded data removed]",
      "text/plain": [
       "<Figure size 432x288 with 1 Axes>"
      ]
     },
     "metadata": {
      "needs_background": "light"
     },
     "output_type": "display_data"
    }
   ],
   "source": [
    "# let's look the count of diamonds per cut\n",
    "diamonds.select(\"cut\").group(\"cut\").barh(\"cut\",\"count\")"
   ]
  },
  {
   "cell_type": "markdown",
   "metadata": {},
   "source": [
    "#### References\n",
    "\n",
    "- Sections of \"Intro to Jupyter\", \"Table Transformation\" adapted from materials by Kelly Chen and Ashley Chien in [UC Berkeley Data Science Modules core resources](http://github.com/ds-modules/core-resources)\n",
    "- \"A Note on Errors\" subsection and \"error\" image adapted from materials by Chris Hench and Mariah Rogers for the Medieval Studies 250: Text Analysis for Graduate Medievalists [data science module](https://github.com/ds-modules/MEDST-250).\n",
    "- Rocket Fuel data and discussion questions adapted from materials by Zsolt Katona and Brian Bell, BerkeleyHaas Case Series"
   ]
  },
  {
   "cell_type": "markdown",
   "metadata": {},
   "source": [
    "Author: Keeley Takimoto"
   ]
  }
 ],
 "metadata": {
  "kernelspec": {
   "display_name": "Python 3",
   "language": "python",
   "name": "python3"
  },
  "language_info": {
   "codemirror_mode": {
    "name": "ipython",
    "version": 3
   },
   "file_extension": ".py",
   "mimetype": "text/x-python",
   "name": "python",
   "nbconvert_exporter": "python",
   "pygments_lexer": "ipython3",
   "version": "3.7.3"
  }
 },
 "nbformat": 4,
 "nbformat_minor": 2
}
